{
 "cells": [
  {
   "cell_type": "markdown",
   "metadata": {
    "deletable": true,
    "editable": true
   },
   "source": [
    "Custom_Score_2 := #my_moves - #their_moves\n",
    "    \n",
    "This script evaluates the performance of the custom_score evaluation\n",
    "function against a baseline agent using alpha-beta search and iterative\n",
    "deepening (ID) called `AB_Improved`. The three `AB_Custom` agents use\n",
    "ID and alpha-beta search with the custom_score functions defined in\n",
    "game_agent.py.\n",
    "\n",
    "                        *************************                         \n",
    "                             Playing Matches                              \n",
    "                        *************************                         \n",
    "\n",
    " Match #   Opponent    AB_Improved  AB_Custom_2  AB_Custom_3 \n",
    "                        Won | Lost   Won | Lost   Won | Lost \n",
    "    1       Random      10  |   0    10  |   0    10  |   0  \n",
    "    2       MM_Open      9  |   1    10  |   0    10  |   0  \n",
    "    3      MM_Center    10  |   0    10  |   0     9  |   1  \n",
    "    4     MM_Improved   10  |   0    10  |   0     9  |   1  \n",
    "    5       AB_Open      5  |   5     4  |   6     3  |   7  \n",
    "    6      AB_Center     7  |   3     6  |   4     5  |   5  \n",
    "    7     AB_Improved    5  |   5     4  |   6     4  |   6  \n",
    "--------------------------------------------------------------------------\n",
    "           Win Rate:      80.0%        77.1%        71.4%    "
   ]
  },
  {
   "cell_type": "markdown",
   "metadata": {
    "collapsed": true,
    "deletable": true,
    "editable": true
   },
   "source": [
    "This script evaluates the performance of the custom_score evaluation\n",
    "function against a baseline agent using alpha-beta search and iterative\n",
    "deepening (ID) called `AB_Improved`. The three `AB_Custom` agents use\n",
    "ID and alpha-beta search with the custom_score functions defined in\n",
    "game_agent.py.\n",
    "\n",
    "                        *************************                         \n",
    "                             Playing Matches                              \n",
    "                        *************************                         \n",
    "\n",
    " Match #   Opponent    AB_Improved  AB_Custom_2  AB_Custom_3 \n",
    "                        Won | Lost   Won | Lost   Won | Lost \n",
    "    1       Random      10  |   0    10  |   0    10  |   0  \n",
    "    2       MM_Open      9  |   1    10  |   0    10  |   0  \n",
    "    3      MM_Center    10  |   0    10  |   0     9  |   1  \n",
    "    4     MM_Improved   10  |   0    10  |   0     9  |   1  \n",
    "    5       AB_Open      5  |   5     4  |   6     3  |   7  \n",
    "    6      AB_Center     7  |   3     6  |   4     5  |   5  \n",
    "    7     AB_Improved    5  |   5     4  |   6     4  |   6  \n",
    "--------------------------------------------------------------------------\n",
    "           Win Rate:      80.0%        77.1%        71.4%    "
   ]
  },
  {
   "cell_type": "code",
   "execution_count": 4,
   "metadata": {
    "collapsed": false
   },
   "outputs": [
    {
     "ename": "SyntaxError",
     "evalue": "invalid syntax (<ipython-input-4-181b4008331c>, line 2)",
     "output_type": "error",
     "traceback": [
      "\u001b[1;36m  File \u001b[1;32m\"<ipython-input-4-181b4008331c>\"\u001b[1;36m, line \u001b[1;32m2\u001b[0m\n\u001b[1;33m    This script evaluates the performance of the custom_score evaluation\u001b[0m\n\u001b[1;37m              ^\u001b[0m\n\u001b[1;31mSyntaxError\u001b[0m\u001b[1;31m:\u001b[0m invalid syntax\n"
     ]
    }
   ],
   "source": [
    "\n",
    "This script evaluates the performance of the custom_score evaluation\n",
    "function against a baseline agent using alpha-beta search and iterative\n",
    "deepening (ID) called `AB_Improved`. The three `AB_Custom` agents use\n",
    "ID and alpha-beta search with the custom_score functions defined in\n",
    "game_agent.py.\n",
    "\n",
    "                        *************************                         \n",
    "                             Playing Matches                              \n",
    "                        *************************                         \n",
    "\n",
    " Match #   Opponent    AB_Improved   AB_Custom  AB_Custom_2.5_6Current_Best AB_Custom_2.5_4\n",
    "                        Won | Lost   Won | Lost   Won | Lost   Won | Lost   Won | Lost \n",
    "    1     AB_Improved    3  |   7     6  |   4     5  |   5     6  |   4     6  |   4  \n",
    "--------------------------------------------------------------------------\n",
    "           Win Rate:      30.0%        60.0%        50.0%        60.0%        60.0%    "
   ]
  },
  {
   "cell_type": "code",
   "execution_count": null,
   "metadata": {
    "collapsed": true
   },
   "outputs": [],
   "source": [
    "\n",
    "This script evaluates the performance of the custom_score evaluation\n",
    "function against a baseline agent using alpha-beta search and iterative\n",
    "deepening (ID) called `AB_Improved`. The three `AB_Custom` agents use\n",
    "ID and alpha-beta search with the custom_score functions defined in\n",
    "game_agent.py.\n",
    "\n",
    "                        *************************                         \n",
    "                             Playing Matches                              \n",
    "                        *************************                         \n",
    "\n",
    " Match #   Opponent    AB_Improved   AB_Custom  AB_Custom_2.5_6Current_Best AB_Custom_2.5_4\n",
    "                        Won | Lost   Won | Lost   Won | Lost   Won | Lost   Won | Lost \n",
    "    1     AB_Improved    3  |   7     6  |   4     5  |   5     6  |   4     6  |   4  \n",
    "--------------------------------------------------------------------------\n",
    "           Win Rate:      30.0%        60.0%        50.0%        60.0%        60.0%    \n",
    "    "
   ]
  }
 ],
 "metadata": {
  "kernelspec": {
   "display_name": "Python 3",
   "language": "python",
   "name": "python3"
  },
  "language_info": {
   "codemirror_mode": {
    "name": "ipython",
    "version": 3
   },
   "file_extension": ".py",
   "mimetype": "text/x-python",
   "name": "python",
   "nbconvert_exporter": "python",
   "pygments_lexer": "ipython3",
   "version": "3.6.0"
  }
 },
 "nbformat": 4,
 "nbformat_minor": 2
}
